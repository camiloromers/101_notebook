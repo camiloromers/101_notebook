{
 "cells": [
  {
   "cell_type": "code",
   "execution_count": null,
   "metadata": {},
   "outputs": [],
   "source": [
    "!cd ./pypownet\n",
    "!git reset --hard af4876bf9b5d11a1fc27a68fa5ac7058b69d18b9\n",
    "!python3 setup.py install"
   ]
  },
  {
   "cell_type": "markdown",
   "metadata": {},
   "source": [
    "<br><br>\n",
    "<h1 style=\"font-family:'Verdana',sans-serif; color:#1D7874; font-size:30px;\">How a transmission system operates?</h1>"
   ]
  },
  {
   "cell_type": "markdown",
   "metadata": {},
   "source": [
    "<br>\n",
    "<h2 style=\"font-family:'Verdana',sans-serif; color:#1D7874;\">Table of Contents</h2>\n",
    "<br>\n",
    "<ol style=\"font-family:'Verdana','sans-serif'; color:#393D3F; text-align:justify; font-size:14px;\">\n",
    "    <li ><a href='#introduction'>Introduction</a></li>\n",
    "    <li ><a href='#motivation'>Motivation</a></li>\n",
    "    <li><a href='#load_env'>Load an environment with pypownet</a></li>\n",
    "    <li><a href='#grid_info'>Grid information</a></li>\n",
    "    <li><a href='#grid'>The 4 substation grid</a></li>\n",
    "    <li><a href='#line_cut'>A line disconnection and its effect</a></li>\n",
    "    <li><a href='#config'>Inside a substation</a></li>\n",
    "    <li><a href='#remedial'>A remedial solution</a></li>\n",
    "</ol>"
   ]
  },
  {
   "cell_type": "markdown",
   "metadata": {},
   "source": [
    "<a id='introduction'></a>"
   ]
  },
  {
   "cell_type": "markdown",
   "metadata": {},
   "source": [
    "<h3 style=\"font-family:'Verdana',sans-serif; color:#1D7874;\">Introduction</h3>\n",
    "<p style=\"font-family:'Verdana','sans-serif'; color:#393D3F; text-align:justify; font-size:14px;\">\n",
    "    This notebook is an introduction to transmission system operation. The operation of electrical networks have been studying for many years around the world and involves many activities. The main difference between transmission grids an others is such that they operate with high voltages (normally above 100 kV) but it depends on each country, though. One of the main goals for transmission operators is to ensure a reliable and secure continuity of energy towards distribution networks under some quality conditions that are applied by the respective country. \n",
    "<br><br>\n",
    "    For simplicity, a four substations grid is presented here with suppliers and consumers. In fact, transmission grids are more complex and have many long lines that connect different cities or states. The grid often covers an entire country linking power plants and distribution networks. At this point no matter how simple the grid is. It clearly illustrates one of the problems Rte-France wants to solve which is congestion management.\n",
    "<br><br> \n",
    "<!-- <img src=\"ExampleGrid.JPG\", width=650, ALIGN=\"middle\", border=20> -->\n",
    "    <img src=\"https://i.ibb.co/fHm0Rb5/Example-Grid.jpg\", width=650, ALIGN=\"middle\", border=20>\n",
    "<p style=\"font-family:'Verdana','sans-serif'; color:#393D3F; text-align:center; font-size:11px;\">\n",
    "(courtesy by Marvin Lerousseau)\n",
    "</p>\n",
    "</p>"
   ]
  },
  {
   "cell_type": "markdown",
   "metadata": {},
   "source": [
    "<a id='motivation'></a>"
   ]
  },
  {
   "cell_type": "markdown",
   "metadata": {},
   "source": [
    "<h3 style=\"font-family:'Verdana',sans-serif; color:#1D7874;\">Motivation</h3>\n",
    "\n",
    "<p style=\"font-family:'Verdana','sans-serif'; color:#393D3F; text-align:justify; font-size:14px;\">\n",
    "    Once a basic grid has been presented, electrical engineers are always interested to do power flow analysis. A power flow or load flow is no more than a network numerical analysis to determine the watts and voltage in all substation. These metrics help to measure electricity to be simplistic. \n",
    "<br><br>\n",
    "    The watts is how fast the electricity is used. When customers demand more energy, the watts increase as well. The flows in lines are affected by the load consumption dynamism and the availability of generation plants or productions. Do not customers have exactly the same demand behavior every time, do we? but there is more reason why a flow in a line could change.   \n",
    "<br><br>  \n",
    "    As demand on power system increases over the years, the transmission system is forced often to operate to its limits. The limit is related to the maximum capacity a line could transfer without exceeding its thermal limits. It is very usual for electrical operators to set up the thermal limits above 80% of the line capacity as a warning signal to avoid undesired damages in the equipment.\n",
    "<br><br>\n",
    "    The congestion caused by day to day demand and also due to some external factors such as topology grid changes by operator's actions, lines in maintenance or transient faults might lead to cascade outages or put the system in an instability condition.\n",
    "</p>"
   ]
  },
  {
   "cell_type": "markdown",
   "metadata": {},
   "source": [
    "<a id='load_env'></a>"
   ]
  },
  {
   "cell_type": "markdown",
   "metadata": {},
   "source": [
    "<h3 style=\"font-family:'Verdana',sans-serif; color:#1D7874;\">Loading the environment</h3>"
   ]
  },
  {
   "cell_type": "markdown",
   "metadata": {},
   "source": [
    "<p style=\"font-family:'Verdana','sans-serif'; color:#393D3F; text-align:justify; font-size:14px;\">\n",
    "    Before starting the explanation, all libraries and the pypownet environment has to be loaded. The environment contains all essential information about the power grid such as the substations ids where the loads, generators and transmission lines are connected, the power flows and so on.\n",
    "</p>"
   ]
  },
  {
   "cell_type": "code",
   "execution_count": 1,
   "metadata": {},
   "outputs": [
    {
     "data": {
      "text/html": [
       "<script>requirejs.config({paths: { 'plotly': ['https://cdn.plot.ly/plotly-latest.min']},});if(!window.Plotly) {{require(['plotly'],function(plotly) {window.Plotly=plotly;});}}</script>"
      ],
      "text/vnd.plotly.v1+html": [
       "<script>requirejs.config({paths: { 'plotly': ['https://cdn.plot.ly/plotly-latest.min']},});if(!window.Plotly) {{require(['plotly'],function(plotly) {window.Plotly=plotly;});}}</script>"
      ]
     },
     "metadata": {},
     "output_type": "display_data"
    }
   ],
   "source": [
    "%matplotlib inline\n",
    "import numpy as np\n",
    "import pandas as pd\n",
    "import matplotlib.pyplot as plt\n",
    "import warnings\n",
    "from matplotlib.font_manager import FontProperties\n",
    "from plotly.offline import download_plotlyjs, init_notebook_mode, plot, iplot \n",
    "\n",
    "# Connect Plotly in offline mode. \n",
    "init_notebook_mode(connected = True) \n",
    "warnings.simplefilter(action='ignore', category=FutureWarning)"
   ]
  },
  {
   "cell_type": "code",
   "execution_count": 2,
   "metadata": {},
   "outputs": [
    {
     "name": "stderr",
     "output_type": "stream",
     "text": [
      "/!\\ Using default reward signal, as reward_signal.py file is not found\n"
     ]
    }
   ],
   "source": [
    "import os\n",
    "import pypownet.environment\n",
    "import pypownet.runner\n",
    "\n",
    "# Initial conditions\n",
    "path_data = 'data'\n",
    "level='4_substations'\n",
    "# Initialize the env.\n",
    "environment = pypownet.environment.RunEnv(parameters_folder=os.path.abspath(path_data),\n",
    "                                          game_level=level,\n",
    "                                          chronic_looping_mode='natural', start_id=0,\n",
    "                                          game_over_mode='hard' )"
   ]
  },
  {
   "cell_type": "markdown",
   "metadata": {},
   "source": [
    "<a id='grid_info'></a>"
   ]
  },
  {
   "cell_type": "markdown",
   "metadata": {},
   "source": [
    "<h3 style=\"font-family:'Verdana',sans-serif; color:#1D7874;\">Grid Information</h3>"
   ]
  },
  {
   "cell_type": "markdown",
   "metadata": {},
   "source": [
    "<p style=\"font-family:'Verdana','sans-serif'; color:#393D3F; text-align:justify; font-size:14px;\">\n",
    "Despide the grid is very small and simple, all information is accessible directly using the pypownet environment. The environment holds several classes designed for the reinforcement learning challenge. The following lines retrieve the nodes or substations ids and the numbers of elements connected to each busbar. \n",
    "</p>"
   ]
  },
  {
   "cell_type": "code",
   "execution_count": 3,
   "metadata": {},
   "outputs": [
    {
     "name": "stdout",
     "output_type": "stream",
     "text": [
      "Num of loads in total: 2 -> Loads ids:\n",
      "[3 4]\n",
      "Num of gen in total: 2 -> Generators id:\n",
      "[1 2]\n",
      "Total transmission lines: 5\n",
      "\n",
      "Line sender id:\n",
      "[1 1 1 2 3]\n",
      "Line receiver id:\n",
      "[2 3 4 4 4]\n",
      "\n",
      "Numbers of elements of subestation:\n",
      "++  ++  ++  ++  ++  ++  ++  ++  ++\n",
      "SE: 1 - # elements: 4\n",
      "SE: 2 - # elements: 3\n",
      "SE: 3 - # elements: 3\n",
      "SE: 4 - # elements: 4\n"
     ]
    }
   ],
   "source": [
    "# Load ids\n",
    "loads_id = environment.action_space.loads_subs_ids\n",
    "print ('Num of loads in total: {} -> Loads ids:'.format(len(loads_id), loads_id))\n",
    "print (loads_id)\n",
    "\n",
    "# Generators irds\n",
    "gen_id = environment.action_space.prods_subs_ids\n",
    "print ('Num of gen in total: {} -> Generators id:'.format(len(gen_id), gen_id))\n",
    "print (gen_id)\n",
    "\n",
    "# Line id sender\n",
    "line_sender_id = environment.action_space.lines_or_subs_id\n",
    "print ('Total transmission lines: {}'.format(len(line_sender_id)))\n",
    "print ()\n",
    "print ('Line sender id:')\n",
    "print (line_sender_id)\n",
    "\n",
    "# Line receiver id\n",
    "line_rcv_id = environment.action_space.lines_ex_subs_id\n",
    "print ('Line receiver id:')\n",
    "print (line_rcv_id)\n",
    "print ()\n",
    "\n",
    "# Num of elements per SE\n",
    "print ('Numbers of elements of subestation:')\n",
    "print ('++  ++  ++  ++  ++  ++  ++  ++  ++')\n",
    "for i in environment.action_space.substations_ids:\n",
    "    print ('SE: {:d} - # elements: {}'.format(int(i), \n",
    "                                              environment.action_space.get_number_elements_of_substation(i)))\n"
   ]
  },
  {
   "cell_type": "markdown",
   "metadata": {},
   "source": [
    "<p style=\"font-family:'Verdana','sans-serif'; color:#393D3F; text-align:justify; font-size:14px;\">\n",
    "The goal of the notebook is to explain briefly how electrical networks operate. We will use certain actions to increase the static stress and to manage possible congestions in the grid. The following information is used later.\n",
    "</p>"
   ]
  },
  {
   "cell_type": "code",
   "execution_count": 4,
   "metadata": {},
   "outputs": [],
   "source": [
    "action_space = environment.action_space\n",
    "observation_space = environment.observation_space\n",
    "game = environment.game\n",
    "\n",
    "# Create do_nothing action.\n",
    "action_do_nothing = action_space.get_do_nothing_action()"
   ]
  },
  {
   "cell_type": "markdown",
   "metadata": {},
   "source": [
    "<p style=\"font-family:'Verdana','sans-serif'; color:#393D3F; text-align:justify; font-size:14px;\">\n",
    "Furthermore, an action vector should be initialized it to be used in the environment to get the desired results.\n",
    "</p>"
   ]
  },
  {
   "cell_type": "code",
   "execution_count": 5,
   "metadata": {},
   "outputs": [],
   "source": [
    "# substation id.\n",
    "sub_id = 1\n",
    "\n",
    "# Create new_config array as do_nothing for \n",
    "# the current substation and an action array \n",
    "# as type action class.\n",
    "new_config = np.zeros(action_space.get_number_elements_of_substation(sub_id))\n",
    "applied_action = action_space.set_substation_switches_in_action(action_do_nothing, sub_id, new_config)"
   ]
  },
  {
   "cell_type": "markdown",
   "metadata": {},
   "source": [
    "<p style=\"font-family:'Verdana','sans-serif'; color:#393D3F; text-align:justify; font-size:14px;\">\n",
    "The next function allows us to perform a few iterations using the environment given the action as an input and returns the observation variables as the power flow results, switches states, etc.\n",
    "</p>"
   ]
  },
  {
   "cell_type": "code",
   "execution_count": 6,
   "metadata": {},
   "outputs": [],
   "source": [
    "import copy\n",
    "\n",
    "def sim(action, \n",
    "        t_action=0, \n",
    "        v=False):\n",
    "    \n",
    "    # Restart all the game from the scratch.\n",
    "    env = []\n",
    "    env = pypownet.environment.RunEnv(parameters_folder=os.path.abspath(path_data),\n",
    "                                          game_level=level,\n",
    "                                          chronic_looping_mode='natural', start_id=0,\n",
    "                                          game_over_mode='hard') \n",
    "\n",
    "    action_space=env.action_space\n",
    "    observation_space=env.observation_space\n",
    "    game=env.game\n",
    "    \n",
    "    # Iterating process..\n",
    "    for i in range(2):\n",
    "    \n",
    "        # Execute action at step 0.\n",
    "        if i == t_action: \n",
    "            obs_arry, *_ = env.step(action)\n",
    "            obs = observation_space.array_to_observation(obs_arry)\n",
    "            obs_action = copy.deepcopy(obs)\n",
    "    \n",
    "    return env, obs_action"
   ]
  },
  {
   "cell_type": "markdown",
   "metadata": {},
   "source": [
    "<a id='grid'></a>"
   ]
  },
  {
   "cell_type": "markdown",
   "metadata": {},
   "source": [
    "<h3 style=\"font-family:'Verdana',sans-serif; color:#1D7874;\">A simple grid</h3>\n",
    "\n",
    "<p style=\"font-family:'Verdana','sans-serif'; color:#393D3F; text-align:justify; font-size:14px;\">\n",
    "The grid with four substations without any action is presented as follows. All power plants, consumptions and lines are on service and the load flows are indicating in each substation.\n",
    "</p>"
   ]
  },
  {
   "cell_type": "markdown",
   "metadata": {},
   "source": [
    "<div class=\"alert alert-warning\">\n",
    "    Note: How to interprate the flows?... for transmission lines (or) stands for origin and the convention is to take the flow as positive while (ex) means extremity and should have taken as negative. Thus one might guess the power flow direction.\n",
    "</div>"
   ]
  },
  {
   "cell_type": "code",
   "execution_count": 9,
   "metadata": {},
   "outputs": [],
   "source": [
    "%run ./reconstruct_grid.py\n",
    "\n",
    "layout = {'1':(-10, 10), '2':(10, 10), '3':(-10, -10), '4':(10, -10)}\n",
    "label_pos = {'1':'top left', '2':'top right', '3':'bottom left', '4':'bottom right'}"
   ]
  },
  {
   "cell_type": "code",
   "execution_count": 10,
   "metadata": {},
   "outputs": [
    {
     "name": "stderr",
     "output_type": "stream",
     "text": [
      "ERROR:pypownet.pypownet.parameters:/!\\ Using default reward signal, as reward_signal.py file is not found\n"
     ]
    },
    {
     "data": {
      "application/vnd.plotly.v1+json": {
       "data": [
        {
         "hoverinfo": "text",
         "line": {
          "color": "#888",
          "width": 1.3
         },
         "mode": "lines",
         "type": "scatter",
         "x": [
          -10,
          10,
          null,
          -10,
          -10,
          null,
          -10,
          10,
          null,
          10,
          10,
          null,
          -10,
          10,
          null
         ],
         "y": [
          10,
          10,
          null,
          10,
          -10,
          null,
          10,
          -10,
          null,
          10,
          -10,
          null,
          -10,
          -10,
          null
         ]
        },
        {
         "hoverinfo": "text",
         "marker": {
          "color": [
           "rgb(227,26,28)",
           "rgb(227,26,28)",
           "rgb(31,120,180)",
           "rgb(31,120,180)"
          ],
          "line": {
           "color": "rgb(100,100,100)",
           "width": 2
          },
          "size": [
           47,
           47,
           32,
           32
          ]
         },
         "mode": "markers+text",
         "text": [
          "Results:<br>Prod: 23.7 MW<br>TLor{1-2} -24.5 MW<br>TLor{1-3} 31.6 MW<br>TLor{1-4} 16.6 MW",
          "Results:<br>Prod: 61.0 MW<br>TLor{2-4} 35.6 MW<br>TLex{2-1} 25.4 MW",
          "Results:<br>Load: 51.0 MW<br>TLor{3-4} -20.0 MW<br>TLex{3-1} -31.0 MW",
          "Results:<br>Load: 31.0 MW<br>TLex{4-1} -16.4 MW<br>TLex{4-2} -34.8 MW<br>TLex{4-3} 20.3 MW"
         ],
         "textfont": {
          "color": "rgb(50,50,50)",
          "size": 8
         },
         "textposition": [
          "top left",
          "top right",
          "bottom left",
          "bottom right"
         ],
         "type": "scatter",
         "x": [
          -10,
          10,
          -10,
          10
         ],
         "y": [
          10,
          10,
          -10,
          -10
         ]
        }
       ],
       "layout": {
        "annotations": [
         {
          "font": {
           "color": "rgb(255,255,255)",
           "size": 10
          },
          "showarrow": false,
          "text": "1",
          "x": -10,
          "xref": "x1",
          "y": 10,
          "yref": "y1"
         },
         {
          "font": {
           "color": "rgb(255,255,255)",
           "size": 10
          },
          "showarrow": false,
          "text": "2",
          "x": 10,
          "xref": "x1",
          "y": 10,
          "yref": "y1"
         },
         {
          "font": {
           "color": "rgb(255,255,255)",
           "size": 10
          },
          "showarrow": false,
          "text": "3",
          "x": -10,
          "xref": "x1",
          "y": -10,
          "yref": "y1"
         },
         {
          "font": {
           "color": "rgb(255,255,255)",
           "size": 10
          },
          "showarrow": false,
          "text": "4",
          "x": 10,
          "xref": "x1",
          "y": -10,
          "yref": "y1"
         }
        ],
        "margin": {
         "b": 10,
         "l": 5,
         "r": 5,
         "t": 10
        },
        "showlegend": false,
        "xaxis": {
         "showgrid": false,
         "showticklabels": false,
         "zeroline": false
        },
        "yaxis": {
         "showgrid": false,
         "showticklabels": false,
         "zeroline": false
        }
       }
      },
      "text/html": [
       "<div id=\"061a8449-43d7-412f-b2f6-80e22089c03b\" style=\"height: 525px; width: 100%;\" class=\"plotly-graph-div\"></div><script type=\"text/javascript\">require([\"plotly\"], function(Plotly) { window.PLOTLYENV=window.PLOTLYENV || {};window.PLOTLYENV.BASE_URL=\"https://plot.ly\";Plotly.newPlot(\"061a8449-43d7-412f-b2f6-80e22089c03b\", [{\"type\": \"scatter\", \"x\": [-10, 10, null, -10, -10, null, -10, 10, null, 10, 10, null, -10, 10, null], \"y\": [10, 10, null, 10, -10, null, 10, -10, null, 10, -10, null, -10, -10, null], \"line\": {\"width\": 1.3, \"color\": \"#888\"}, \"hoverinfo\": \"text\", \"mode\": \"lines\"}, {\"type\": \"scatter\", \"x\": [-10, 10, -10, 10], \"y\": [10, 10, -10, -10], \"text\": [\"Results:<br>Prod: 23.7 MW<br>TLor{1-2} -24.5 MW<br>TLor{1-3} 31.6 MW<br>TLor{1-4} 16.6 MW\", \"Results:<br>Prod: 61.0 MW<br>TLor{2-4} 35.6 MW<br>TLex{2-1} 25.4 MW\", \"Results:<br>Load: 51.0 MW<br>TLor{3-4} -20.0 MW<br>TLex{3-1} -31.0 MW\", \"Results:<br>Load: 31.0 MW<br>TLex{4-1} -16.4 MW<br>TLex{4-2} -34.8 MW<br>TLex{4-3} 20.3 MW\"], \"mode\": \"markers+text\", \"hoverinfo\": \"text\", \"textposition\": [\"top left\", \"top right\", \"bottom left\", \"bottom right\"], \"textfont\": {\"size\": 8, \"color\": \"rgb(50,50,50)\"}, \"marker\": {\"color\": [\"rgb(227,26,28)\", \"rgb(227,26,28)\", \"rgb(31,120,180)\", \"rgb(31,120,180)\"], \"size\": [47.0, 47.0, 32.0, 32.0], \"line\": {\"color\": \"rgb(100,100,100)\", \"width\": 2}}}], {\"showlegend\": false, \"margin\": {\"b\": 10, \"l\": 5, \"r\": 5, \"t\": 10}, \"xaxis\": {\"showgrid\": false, \"zeroline\": false, \"showticklabels\": false}, \"yaxis\": {\"showgrid\": false, \"zeroline\": false, \"showticklabels\": false}, \"annotations\": [{\"text\": \"1\", \"x\": -10, \"y\": 10, \"xref\": \"x1\", \"yref\": \"y1\", \"font\": {\"color\": \"rgb(255,255,255)\", \"size\": 10}, \"showarrow\": false}, {\"text\": \"2\", \"x\": 10, \"y\": 10, \"xref\": \"x1\", \"yref\": \"y1\", \"font\": {\"color\": \"rgb(255,255,255)\", \"size\": 10}, \"showarrow\": false}, {\"text\": \"3\", \"x\": -10, \"y\": -10, \"xref\": \"x1\", \"yref\": \"y1\", \"font\": {\"color\": \"rgb(255,255,255)\", \"size\": 10}, \"showarrow\": false}, {\"text\": \"4\", \"x\": 10, \"y\": -10, \"xref\": \"x1\", \"yref\": \"y1\", \"font\": {\"color\": \"rgb(255,255,255)\", \"size\": 10}, \"showarrow\": false}]}, {\"showLink\": true, \"linkText\": \"Export to plot.ly\"})});</script>"
      ],
      "text/vnd.plotly.v1+html": [
       "<div id=\"061a8449-43d7-412f-b2f6-80e22089c03b\" style=\"height: 525px; width: 100%;\" class=\"plotly-graph-div\"></div><script type=\"text/javascript\">require([\"plotly\"], function(Plotly) { window.PLOTLYENV=window.PLOTLYENV || {};window.PLOTLYENV.BASE_URL=\"https://plot.ly\";Plotly.newPlot(\"061a8449-43d7-412f-b2f6-80e22089c03b\", [{\"type\": \"scatter\", \"x\": [-10, 10, null, -10, -10, null, -10, 10, null, 10, 10, null, -10, 10, null], \"y\": [10, 10, null, 10, -10, null, 10, -10, null, 10, -10, null, -10, -10, null], \"line\": {\"width\": 1.3, \"color\": \"#888\"}, \"hoverinfo\": \"text\", \"mode\": \"lines\"}, {\"type\": \"scatter\", \"x\": [-10, 10, -10, 10], \"y\": [10, 10, -10, -10], \"text\": [\"Results:<br>Prod: 23.7 MW<br>TLor{1-2} -24.5 MW<br>TLor{1-3} 31.6 MW<br>TLor{1-4} 16.6 MW\", \"Results:<br>Prod: 61.0 MW<br>TLor{2-4} 35.6 MW<br>TLex{2-1} 25.4 MW\", \"Results:<br>Load: 51.0 MW<br>TLor{3-4} -20.0 MW<br>TLex{3-1} -31.0 MW\", \"Results:<br>Load: 31.0 MW<br>TLex{4-1} -16.4 MW<br>TLex{4-2} -34.8 MW<br>TLex{4-3} 20.3 MW\"], \"mode\": \"markers+text\", \"hoverinfo\": \"text\", \"textposition\": [\"top left\", \"top right\", \"bottom left\", \"bottom right\"], \"textfont\": {\"size\": 8, \"color\": \"rgb(50,50,50)\"}, \"marker\": {\"color\": [\"rgb(227,26,28)\", \"rgb(227,26,28)\", \"rgb(31,120,180)\", \"rgb(31,120,180)\"], \"size\": [47.0, 47.0, 32.0, 32.0], \"line\": {\"color\": \"rgb(100,100,100)\", \"width\": 2}}}], {\"showlegend\": false, \"margin\": {\"b\": 10, \"l\": 5, \"r\": 5, \"t\": 10}, \"xaxis\": {\"showgrid\": false, \"zeroline\": false, \"showticklabels\": false}, \"yaxis\": {\"showgrid\": false, \"zeroline\": false, \"showticklabels\": false}, \"annotations\": [{\"text\": \"1\", \"x\": -10, \"y\": 10, \"xref\": \"x1\", \"yref\": \"y1\", \"font\": {\"color\": \"rgb(255,255,255)\", \"size\": 10}, \"showarrow\": false}, {\"text\": \"2\", \"x\": 10, \"y\": 10, \"xref\": \"x1\", \"yref\": \"y1\", \"font\": {\"color\": \"rgb(255,255,255)\", \"size\": 10}, \"showarrow\": false}, {\"text\": \"3\", \"x\": -10, \"y\": -10, \"xref\": \"x1\", \"yref\": \"y1\", \"font\": {\"color\": \"rgb(255,255,255)\", \"size\": 10}, \"showarrow\": false}, {\"text\": \"4\", \"x\": 10, \"y\": -10, \"xref\": \"x1\", \"yref\": \"y1\", \"font\": {\"color\": \"rgb(255,255,255)\", \"size\": 10}, \"showarrow\": false}]}, {\"showLink\": true, \"linkText\": \"Export to plot.ly\"})});</script>"
      ]
     },
     "metadata": {},
     "output_type": "display_data"
    }
   ],
   "source": [
    "# Run the game.\n",
    "n_iter = 2\n",
    "action_do_nothing = applied_action.as_array()\n",
    "\n",
    "# Run the environment.\n",
    "env, obs = sim(action_do_nothing)\n",
    "\n",
    "# Get the grid.\n",
    "grid_do_nothing = reconstruct_grid(env, obs, action_do_nothing, layout, label_pos, replace_dic=True)\n",
    "iplot(grid_do_nothing)\n",
    "\n",
    "# grid_do_nothing['layout'].update(dict(height=450, width=600, showlegend=False, title='Electrical Grid',\n",
    "#                                   xaxis=dict(range=[-30,30],\n",
    "#                                              showgrid=False,zeroline=False,showline=False,showticklabels=False),\n",
    "#                                   yaxis=dict(range=[-30,30],\n",
    "#                                              showgrid=False,zeroline=False,showline=False,showticklabels=False)))"
   ]
  },
  {
   "cell_type": "markdown",
   "metadata": {},
   "source": [
    "<p style=\"font-family:'Verdana','sans-serif'; color:#393D3F; text-align:justify; font-size:14px;\">\n",
    "For instance given the results above there is .......\n",
    "</p>"
   ]
  },
  {
   "cell_type": "markdown",
   "metadata": {},
   "source": [
    "<a id='line_cut'></a>"
   ]
  },
  {
   "cell_type": "markdown",
   "metadata": {},
   "source": [
    "<h3 style=\"font-family:'Verdana',sans-serif; color:#1D7874;\">Line disconnection</h3>\n",
    "\n",
    "<p style=\"font-family:'Verdana','sans-serif'; color:#393D3F; text-align:justify; font-size:14px;\">\n",
    "    Transmission lines link different states or regions between productions and consumptions. They have long distance and are subjected to suddenly disconnections due to thunderstorms. It is natural to have one or more lines out-of-service along the day because of thunder hits a line. This number tends to increase during winter. \n",
    "<br><br>\n",
    "    A disconnected line changes the configuration on the grid and causes a power flow's redistribution in the grid. Sometimes these undesired events lead to some overloads in other lines. You have not guess the reason why yet? The answer is very intuitive. When a thunder hits a line, the same amount of energy is demanded by customers but now you have one path less in the grid to transmit the energy, and if one via is affected the others will be loaded with more power.\n",
    "<br><br>\n",
    "    Substations are equipped with relays to disconnect a line whether a malfunctioning is detected. Normally the criteria to disconnect a line under an overload condition is to measure the flow and the time a line remains with some flow. Above a given threshold the relay order to open a line.\n",
    "<br><br>\n",
    "    This behavior occurs many times in electrical systems and the expertise and vast knowledge of operators help to alleviate the stress in order to guarantee energy to customers. A similar action could be replicated using pypownet. We simulate a disconnection in our small grid to see the resultant state of the grid.\n",
    "</p>"
   ]
  },
  {
   "cell_type": "markdown",
   "metadata": {},
   "source": [
    "<div class=\"alert alert-warning\">\n",
    "    Note: The user can modify and play with other lines.\n",
    "</div>"
   ]
  },
  {
   "cell_type": "code",
   "execution_count": 11,
   "metadata": {},
   "outputs": [],
   "source": [
    "# Specify the line to be disconnected.\n",
    "id_line = 2"
   ]
  },
  {
   "cell_type": "code",
   "execution_count": 12,
   "metadata": {},
   "outputs": [
    {
     "name": "stdout",
     "output_type": "stream",
     "text": [
      "New action vector\n",
      "[0 0 0 0 0 0 0 0 0 0 0 0 0 0 0 0 1 0 0]\n"
     ]
    }
   ],
   "source": [
    "# Initialize action class with a ramdom substation (1)\n",
    "new_config = np.zeros(action_space.get_number_elements_of_substation(1))\n",
    "applied_action = action_space.set_substation_switches_in_action(action_do_nothing, 1, new_config)\n",
    "\n",
    "# Apply the action (change switch status of a line)\n",
    "action_space.set_lines_status_switch_from_id(action=applied_action,\n",
    "                                             line_id=id_line,\n",
    "                                             new_switch_value=1)\n",
    "\n",
    "print ('New action vector')\n",
    "print (applied_action.as_array())"
   ]
  },
  {
   "cell_type": "markdown",
   "metadata": {},
   "source": [
    "<p style=\"font-family:'Verdana','sans-serif'; color:#393D3F; text-align:justify; font-size:14px;\">\n",
    "Let's run the game given the new action to see how the grid is affected.\n",
    "</p>"
   ]
  },
  {
   "cell_type": "code",
   "execution_count": 13,
   "metadata": {},
   "outputs": [
    {
     "name": "stderr",
     "output_type": "stream",
     "text": [
      "ERROR:pypownet.pypownet.parameters:/!\\ Using default reward signal, as reward_signal.py file is not found\n"
     ]
    },
    {
     "data": {
      "application/vnd.plotly.v1+json": {
       "data": [
        {
         "hoverinfo": "text",
         "line": {
          "color": "#888",
          "width": 1.3
         },
         "mode": "lines",
         "type": "scatter",
         "x": [
          -10,
          10,
          null,
          -10,
          -10,
          null,
          -10,
          10,
          null,
          10,
          10,
          null,
          -10,
          10,
          null
         ],
         "y": [
          10,
          10,
          null,
          10,
          -10,
          null,
          10,
          -10,
          null,
          10,
          -10,
          null,
          -10,
          -10,
          null
         ]
        },
        {
         "hoverinfo": "text",
         "marker": {
          "color": [
           "rgb(227,26,28)",
           "rgb(227,26,28)",
           "rgb(31,120,180)",
           "rgb(31,120,180)"
          ],
          "line": {
           "color": "rgb(100,100,100)",
           "width": 2
          },
          "size": [
           47,
           47,
           32,
           32
          ]
         },
         "mode": "markers+text",
         "text": [
          "Results:<br>Prod: 23.7 MW<br>TLor{1-2} -15.2 MW<br>TLor{1-3} 38.8 MW<br>TLor{1-4} 0.0 MW",
          "Results:<br>Prod: 61.0 MW<br>TLor{2-4} 45.4 MW<br>TLex{2-1} 15.6 MW",
          "Results:<br>Load: 51.0 MW<br>TLor{3-4} -13.0 MW<br>TLex{3-1} -38.0 MW",
          "Results:<br>Load: 31.0 MW<br>TLex{4-1} 0.0 MW<br>TLex{4-2} -44.2 MW<br>TLex{4-3} 13.2 MW"
         ],
         "textfont": {
          "color": "rgb(50,50,50)",
          "size": 8
         },
         "textposition": [
          "top left",
          "top right",
          "bottom left",
          "bottom right"
         ],
         "type": "scatter",
         "x": [
          -10,
          10,
          -10,
          10
         ],
         "y": [
          10,
          10,
          -10,
          -10
         ]
        }
       ],
       "layout": {
        "annotations": [
         {
          "font": {
           "color": "rgb(255,255,255)",
           "size": 10
          },
          "showarrow": false,
          "text": "1",
          "x": -10,
          "xref": "x1",
          "y": 10,
          "yref": "y1"
         },
         {
          "font": {
           "color": "rgb(255,255,255)",
           "size": 10
          },
          "showarrow": false,
          "text": "2",
          "x": 10,
          "xref": "x1",
          "y": 10,
          "yref": "y1"
         },
         {
          "font": {
           "color": "rgb(255,255,255)",
           "size": 10
          },
          "showarrow": false,
          "text": "3",
          "x": -10,
          "xref": "x1",
          "y": -10,
          "yref": "y1"
         },
         {
          "font": {
           "color": "rgb(255,255,255)",
           "size": 10
          },
          "showarrow": false,
          "text": "4",
          "x": 10,
          "xref": "x1",
          "y": -10,
          "yref": "y1"
         }
        ],
        "margin": {
         "b": 10,
         "l": 5,
         "r": 5,
         "t": 10
        },
        "showlegend": false,
        "xaxis": {
         "showgrid": false,
         "showticklabels": false,
         "zeroline": false
        },
        "yaxis": {
         "showgrid": false,
         "showticklabels": false,
         "zeroline": false
        }
       }
      },
      "text/html": [
       "<div id=\"b52379e2-63ff-4aa8-92a4-3dd72777f902\" style=\"height: 525px; width: 100%;\" class=\"plotly-graph-div\"></div><script type=\"text/javascript\">require([\"plotly\"], function(Plotly) { window.PLOTLYENV=window.PLOTLYENV || {};window.PLOTLYENV.BASE_URL=\"https://plot.ly\";Plotly.newPlot(\"b52379e2-63ff-4aa8-92a4-3dd72777f902\", [{\"type\": \"scatter\", \"x\": [-10, 10, null, -10, -10, null, -10, 10, null, 10, 10, null, -10, 10, null], \"y\": [10, 10, null, 10, -10, null, 10, -10, null, 10, -10, null, -10, -10, null], \"line\": {\"width\": 1.3, \"color\": \"#888\"}, \"hoverinfo\": \"text\", \"mode\": \"lines\"}, {\"type\": \"scatter\", \"x\": [-10, 10, -10, 10], \"y\": [10, 10, -10, -10], \"text\": [\"Results:<br>Prod: 23.7 MW<br>TLor{1-2} -15.2 MW<br>TLor{1-3} 38.8 MW<br>TLor{1-4} 0.0 MW\", \"Results:<br>Prod: 61.0 MW<br>TLor{2-4} 45.4 MW<br>TLex{2-1} 15.6 MW\", \"Results:<br>Load: 51.0 MW<br>TLor{3-4} -13.0 MW<br>TLex{3-1} -38.0 MW\", \"Results:<br>Load: 31.0 MW<br>TLex{4-1} 0.0 MW<br>TLex{4-2} -44.2 MW<br>TLex{4-3} 13.2 MW\"], \"mode\": \"markers+text\", \"hoverinfo\": \"text\", \"textposition\": [\"top left\", \"top right\", \"bottom left\", \"bottom right\"], \"textfont\": {\"size\": 8, \"color\": \"rgb(50,50,50)\"}, \"marker\": {\"color\": [\"rgb(227,26,28)\", \"rgb(227,26,28)\", \"rgb(31,120,180)\", \"rgb(31,120,180)\"], \"size\": [47.0, 47.0, 32.0, 32.0], \"line\": {\"color\": \"rgb(100,100,100)\", \"width\": 2}}}], {\"showlegend\": false, \"margin\": {\"b\": 10, \"l\": 5, \"r\": 5, \"t\": 10}, \"xaxis\": {\"showgrid\": false, \"zeroline\": false, \"showticklabels\": false}, \"yaxis\": {\"showgrid\": false, \"zeroline\": false, \"showticklabels\": false}, \"annotations\": [{\"text\": \"1\", \"x\": -10, \"y\": 10, \"xref\": \"x1\", \"yref\": \"y1\", \"font\": {\"color\": \"rgb(255,255,255)\", \"size\": 10}, \"showarrow\": false}, {\"text\": \"2\", \"x\": 10, \"y\": 10, \"xref\": \"x1\", \"yref\": \"y1\", \"font\": {\"color\": \"rgb(255,255,255)\", \"size\": 10}, \"showarrow\": false}, {\"text\": \"3\", \"x\": -10, \"y\": -10, \"xref\": \"x1\", \"yref\": \"y1\", \"font\": {\"color\": \"rgb(255,255,255)\", \"size\": 10}, \"showarrow\": false}, {\"text\": \"4\", \"x\": 10, \"y\": -10, \"xref\": \"x1\", \"yref\": \"y1\", \"font\": {\"color\": \"rgb(255,255,255)\", \"size\": 10}, \"showarrow\": false}]}, {\"showLink\": true, \"linkText\": \"Export to plot.ly\"})});</script>"
      ],
      "text/vnd.plotly.v1+html": [
       "<div id=\"b52379e2-63ff-4aa8-92a4-3dd72777f902\" style=\"height: 525px; width: 100%;\" class=\"plotly-graph-div\"></div><script type=\"text/javascript\">require([\"plotly\"], function(Plotly) { window.PLOTLYENV=window.PLOTLYENV || {};window.PLOTLYENV.BASE_URL=\"https://plot.ly\";Plotly.newPlot(\"b52379e2-63ff-4aa8-92a4-3dd72777f902\", [{\"type\": \"scatter\", \"x\": [-10, 10, null, -10, -10, null, -10, 10, null, 10, 10, null, -10, 10, null], \"y\": [10, 10, null, 10, -10, null, 10, -10, null, 10, -10, null, -10, -10, null], \"line\": {\"width\": 1.3, \"color\": \"#888\"}, \"hoverinfo\": \"text\", \"mode\": \"lines\"}, {\"type\": \"scatter\", \"x\": [-10, 10, -10, 10], \"y\": [10, 10, -10, -10], \"text\": [\"Results:<br>Prod: 23.7 MW<br>TLor{1-2} -15.2 MW<br>TLor{1-3} 38.8 MW<br>TLor{1-4} 0.0 MW\", \"Results:<br>Prod: 61.0 MW<br>TLor{2-4} 45.4 MW<br>TLex{2-1} 15.6 MW\", \"Results:<br>Load: 51.0 MW<br>TLor{3-4} -13.0 MW<br>TLex{3-1} -38.0 MW\", \"Results:<br>Load: 31.0 MW<br>TLex{4-1} 0.0 MW<br>TLex{4-2} -44.2 MW<br>TLex{4-3} 13.2 MW\"], \"mode\": \"markers+text\", \"hoverinfo\": \"text\", \"textposition\": [\"top left\", \"top right\", \"bottom left\", \"bottom right\"], \"textfont\": {\"size\": 8, \"color\": \"rgb(50,50,50)\"}, \"marker\": {\"color\": [\"rgb(227,26,28)\", \"rgb(227,26,28)\", \"rgb(31,120,180)\", \"rgb(31,120,180)\"], \"size\": [47.0, 47.0, 32.0, 32.0], \"line\": {\"color\": \"rgb(100,100,100)\", \"width\": 2}}}], {\"showlegend\": false, \"margin\": {\"b\": 10, \"l\": 5, \"r\": 5, \"t\": 10}, \"xaxis\": {\"showgrid\": false, \"zeroline\": false, \"showticklabels\": false}, \"yaxis\": {\"showgrid\": false, \"zeroline\": false, \"showticklabels\": false}, \"annotations\": [{\"text\": \"1\", \"x\": -10, \"y\": 10, \"xref\": \"x1\", \"yref\": \"y1\", \"font\": {\"color\": \"rgb(255,255,255)\", \"size\": 10}, \"showarrow\": false}, {\"text\": \"2\", \"x\": 10, \"y\": 10, \"xref\": \"x1\", \"yref\": \"y1\", \"font\": {\"color\": \"rgb(255,255,255)\", \"size\": 10}, \"showarrow\": false}, {\"text\": \"3\", \"x\": -10, \"y\": -10, \"xref\": \"x1\", \"yref\": \"y1\", \"font\": {\"color\": \"rgb(255,255,255)\", \"size\": 10}, \"showarrow\": false}, {\"text\": \"4\", \"x\": 10, \"y\": -10, \"xref\": \"x1\", \"yref\": \"y1\", \"font\": {\"color\": \"rgb(255,255,255)\", \"size\": 10}, \"showarrow\": false}]}, {\"showLink\": true, \"linkText\": \"Export to plot.ly\"})});</script>"
      ]
     },
     "metadata": {},
     "output_type": "display_data"
    }
   ],
   "source": [
    "# Run the environment.\n",
    "applied_action = applied_action.as_array()\n",
    "\n",
    "env, obs = sim(applied_action)\n",
    "\n",
    "# Get the grid.\n",
    "grid_do_nothing = reconstruct_grid(env, obs, applied_action, layout, label_pos, replace_dic=True)\n",
    "iplot(grid_do_nothing)"
   ]
  },
  {
   "cell_type": "markdown",
   "metadata": {},
   "source": [
    "<a id='config'></a>"
   ]
  },
  {
   "cell_type": "markdown",
   "metadata": {},
   "source": [
    "<h3 style=\"font-family:'Verdana',sans-serif; color:#1D7874;\">Inside a Substation</h3>\n",
    "\n",
    "<p style=\"font-family:'Verdana','sans-serif'; color:#393D3F; text-align:justify; font-size:14px;\">\n",
    "    Typically a global view of an electrical grid is to have nodes and edges which are lines that connect those nodes. A node or substation has a configuration that allows all branches to meet. There exist many predefined configurations and each of them are better than others in terms of reliability.\n",
    "<br><br>\n",
    "    In this notebook, we will explore one type of configuration name as \"double busbar\". It is considered one of the most flexible and reliable arrangements. It consists of two bars which are link together and branches such as generators, loads, lines might choose to be connected to any bar. The following figure is a representation of such configuration.\n",
    "<br><br>\n",
    "<!--     <img src=\"./split.png\", width=800, ALIGN=\"middle\", border=20> -->\n",
    "    <img src=\"https://i.ibb.co/8mKsNLn/split.png\", width=800, ALIGN=\"middle\", border=20>\n",
    "<br><br>\n",
    "    You can see in the first diagram is what is inside in a substation with a double busbar configuration. Regularly, all busbars are connected to each other. An action could split the busbars and pass some elements to the desired bar, thus a flow reconfiguration is possible.\n",
    "</p>"
   ]
  },
  {
   "cell_type": "markdown",
   "metadata": {},
   "source": [
    "<a id='remedial'></a>"
   ]
  },
  {
   "cell_type": "markdown",
   "metadata": {},
   "source": [
    "<h3 style=\"font-family:'Verdana',sans-serif; color:#1D7874;\">A Remedial solution</h3>\n",
    "\n",
    "<p style=\"font-family:'Verdana','sans-serif'; color:#393D3F; text-align:justify; font-size:14px;\">\n",
    "    When an overload is detected, operators have to execute a remedial action to alleviate the stress in the system. Normally the experience gained by years by people who work in electrical control rooms is a crucial factor to determine the best one. \n",
    "<br><br>\n",
    "    Transmission networks are a bit complex with many paths where the power can flow. There are also many alternatives to solve the overloads. In many countries changing the production is a valid solution. For instance, you can decrease the flow in the generators which are connected to the overloaded line and increase others that are near the consumptions.\n",
    "<br><br>\n",
    "    However, in other countries with specific electrical market rules, the previous one is costly. A cheap one is to play with the grid configuration, thus one does not have to change the productions values. This approach is the one Rte wants to determine its feasibility with the reinforcement learning approach.\n",
    "<br><br>\n",
    "    Let's imagine the flow in the line 1-4 has increased by some external factor. How one would solve the overload? Actually, there are multiple ways but one solution is to split the substation 4 and connect the line a selective path 1-2-4 or 1-3-4. Thus, a fictitious double line is created and the load is only connected from substation 2.\n",
    "<br><br>\n",
    "    This action can be modeled with pypownet as well. In the next lines of code, you can see all the steps needed to perform the desired action and to get the grid with the power flow results. A new configuration layout should be provided by the user. For example, in the example described below, we execute an action to split the node 4 and connected the extremity with the line that comes from the node 1 and the extremity with line 3.\n",
    "</p>"
   ]
  },
  {
   "cell_type": "code",
   "execution_count": 14,
   "metadata": {},
   "outputs": [],
   "source": [
    "# SE id we want to modify.\n",
    "sub_id = 4\n",
    "\n",
    "# Change internal configuration of SE.\n",
    "new_switch_config = [0, 1, 0, 1]"
   ]
  },
  {
   "cell_type": "code",
   "execution_count": 15,
   "metadata": {},
   "outputs": [],
   "source": [
    "new_config = np.zeros(action_space.get_number_elements_of_substation(sub_id))\n",
    "applied_action = action_space.set_substation_switches_in_action(action_do_nothing, sub_id, new_config)"
   ]
  },
  {
   "cell_type": "code",
   "execution_count": 16,
   "metadata": {},
   "outputs": [
    {
     "name": "stdout",
     "output_type": "stream",
     "text": [
      "New configuration of SE: 4\n",
      "++   ++   ++   ++   ++   +\n",
      "(0.0, consumption)\n",
      "(1.0, extremity of power line)\n",
      "(0.0, extremity of power line)\n",
      "(1.0, extremity of power line)\n"
     ]
    }
   ],
   "source": [
    "#  Set new switches to the new state.\n",
    "applied_action.set_substation_switches(sub_id, new_switch_config)\n",
    "\n",
    "# See changes.\n",
    "sub_i_new_config, sub_i_elm_type = applied_action.get_substation_switches(sub_id)\n",
    "print ('New configuration of SE: {}'.format(sub_id))\n",
    "print ('++   ++   ++   ++   ++   +')\n",
    "for switch_status, elm_sub_type in zip(sub_i_new_config, sub_i_elm_type):\n",
    "        print ('({}, {})'.format(switch_status, elm_sub_type.value))"
   ]
  },
  {
   "cell_type": "code",
   "execution_count": 17,
   "metadata": {},
   "outputs": [
    {
     "name": "stderr",
     "output_type": "stream",
     "text": [
      "ERROR:pypownet.pypownet.parameters:/!\\ Using default reward signal, as reward_signal.py file is not found\n"
     ]
    },
    {
     "data": {
      "application/vnd.plotly.v1+json": {
       "data": [
        {
         "hoverinfo": "text",
         "line": {
          "color": "#888",
          "width": 1.3
         },
         "mode": "lines",
         "type": "scatter",
         "x": [
          -10,
          10,
          null,
          -10,
          -10,
          null,
          -10,
          5,
          null,
          10,
          10,
          null,
          -10,
          5,
          null
         ],
         "y": [
          10,
          10,
          null,
          10,
          -10,
          null,
          10,
          -10,
          null,
          10,
          -10,
          null,
          -10,
          -10,
          null
         ]
        },
        {
         "hoverinfo": "text",
         "marker": {
          "color": [
           "rgb(227,26,28)",
           "rgb(227,26,28)",
           "rgb(31,120,180)",
           "rgb(31,120,180)",
           "rgb(31,120,180)"
          ],
          "line": {
           "color": "rgb(100,100,100)",
           "width": 2
          },
          "size": [
           47,
           47,
           32,
           32,
           32
          ]
         },
         "mode": "markers+text",
         "text": [
          "Results:<br>Prod: 23.9 MW<br>TLor{1-2} -28.1 MW<br>TLor{1-3} 32.3 MW<br>TLor{1-6664} 19.6 MW",
          "Results:<br>Prod: 61.0 MW<br>TLor{2-4} 31.7 MW<br>TLex{2-1} 29.3 MW",
          "Results:<br>Load: 51.0 MW<br>TLor{3-6664} -19.2 MW<br>TLex{3-1} -31.8 MW",
          "Results:<br>Load: 31.0 MW<br>TLex{4-2} -31.0 MW",
          "Results:<br>TLex{6664-1} -19.5 MW<br>TLex{6664-3} 19.5 MW"
         ],
         "textfont": {
          "color": "rgb(50,50,50)",
          "size": 8
         },
         "textposition": [
          "top left",
          "top right",
          "bottom left",
          "bottom right",
          "bottom center"
         ],
         "type": "scatter",
         "x": [
          -10,
          10,
          -10,
          10,
          5
         ],
         "y": [
          10,
          10,
          -10,
          -10,
          -10
         ]
        }
       ],
       "layout": {
        "annotations": [
         {
          "font": {
           "color": "rgb(255,255,255)",
           "size": 10
          },
          "showarrow": false,
          "text": "1",
          "x": -10,
          "xref": "x1",
          "y": 10,
          "yref": "y1"
         },
         {
          "font": {
           "color": "rgb(255,255,255)",
           "size": 10
          },
          "showarrow": false,
          "text": "2",
          "x": 10,
          "xref": "x1",
          "y": 10,
          "yref": "y1"
         },
         {
          "font": {
           "color": "rgb(255,255,255)",
           "size": 10
          },
          "showarrow": false,
          "text": "3",
          "x": -10,
          "xref": "x1",
          "y": -10,
          "yref": "y1"
         },
         {
          "font": {
           "color": "rgb(255,255,255)",
           "size": 10
          },
          "showarrow": false,
          "text": "4",
          "x": 10,
          "xref": "x1",
          "y": -10,
          "yref": "y1"
         },
         {
          "font": {
           "color": "rgb(255,255,255)",
           "size": 10
          },
          "showarrow": false,
          "text": "6664",
          "x": 5,
          "xref": "x1",
          "y": -10,
          "yref": "y1"
         }
        ],
        "margin": {
         "b": 10,
         "l": 5,
         "r": 5,
         "t": 10
        },
        "showlegend": false,
        "xaxis": {
         "showgrid": false,
         "showticklabels": false,
         "zeroline": false
        },
        "yaxis": {
         "showgrid": false,
         "showticklabels": false,
         "zeroline": false
        }
       }
      },
      "text/html": [
       "<div id=\"4799c959-aac8-4167-82e5-7accc6a1f623\" style=\"height: 525px; width: 100%;\" class=\"plotly-graph-div\"></div><script type=\"text/javascript\">require([\"plotly\"], function(Plotly) { window.PLOTLYENV=window.PLOTLYENV || {};window.PLOTLYENV.BASE_URL=\"https://plot.ly\";Plotly.newPlot(\"4799c959-aac8-4167-82e5-7accc6a1f623\", [{\"type\": \"scatter\", \"x\": [-10, 10, null, -10, -10, null, -10, 5, null, 10, 10, null, -10, 5, null], \"y\": [10, 10, null, 10, -10, null, 10, -10, null, 10, -10, null, -10, -10, null], \"line\": {\"width\": 1.3, \"color\": \"#888\"}, \"hoverinfo\": \"text\", \"mode\": \"lines\"}, {\"type\": \"scatter\", \"x\": [-10, 10, -10, 10, 5], \"y\": [10, 10, -10, -10, -10], \"text\": [\"Results:<br>Prod: 23.9 MW<br>TLor{1-2} -28.1 MW<br>TLor{1-3} 32.3 MW<br>TLor{1-6664} 19.6 MW\", \"Results:<br>Prod: 61.0 MW<br>TLor{2-4} 31.7 MW<br>TLex{2-1} 29.3 MW\", \"Results:<br>Load: 51.0 MW<br>TLor{3-6664} -19.2 MW<br>TLex{3-1} -31.8 MW\", \"Results:<br>Load: 31.0 MW<br>TLex{4-2} -31.0 MW\", \"Results:<br>TLex{6664-1} -19.5 MW<br>TLex{6664-3} 19.5 MW\"], \"mode\": \"markers+text\", \"hoverinfo\": \"text\", \"textposition\": [\"top left\", \"top right\", \"bottom left\", \"bottom right\", \"bottom center\"], \"textfont\": {\"size\": 8, \"color\": \"rgb(50,50,50)\"}, \"marker\": {\"color\": [\"rgb(227,26,28)\", \"rgb(227,26,28)\", \"rgb(31,120,180)\", \"rgb(31,120,180)\", \"rgb(31,120,180)\"], \"size\": [47.0, 47.0, 32.0, 32.0, 32.0], \"line\": {\"color\": \"rgb(100,100,100)\", \"width\": 2}}}], {\"showlegend\": false, \"margin\": {\"b\": 10, \"l\": 5, \"r\": 5, \"t\": 10}, \"xaxis\": {\"showgrid\": false, \"zeroline\": false, \"showticklabels\": false}, \"yaxis\": {\"showgrid\": false, \"zeroline\": false, \"showticklabels\": false}, \"annotations\": [{\"text\": \"1\", \"x\": -10, \"y\": 10, \"xref\": \"x1\", \"yref\": \"y1\", \"font\": {\"color\": \"rgb(255,255,255)\", \"size\": 10}, \"showarrow\": false}, {\"text\": \"2\", \"x\": 10, \"y\": 10, \"xref\": \"x1\", \"yref\": \"y1\", \"font\": {\"color\": \"rgb(255,255,255)\", \"size\": 10}, \"showarrow\": false}, {\"text\": \"3\", \"x\": -10, \"y\": -10, \"xref\": \"x1\", \"yref\": \"y1\", \"font\": {\"color\": \"rgb(255,255,255)\", \"size\": 10}, \"showarrow\": false}, {\"text\": \"4\", \"x\": 10, \"y\": -10, \"xref\": \"x1\", \"yref\": \"y1\", \"font\": {\"color\": \"rgb(255,255,255)\", \"size\": 10}, \"showarrow\": false}, {\"text\": \"6664\", \"x\": 5, \"y\": -10, \"xref\": \"x1\", \"yref\": \"y1\", \"font\": {\"color\": \"rgb(255,255,255)\", \"size\": 10}, \"showarrow\": false}]}, {\"showLink\": true, \"linkText\": \"Export to plot.ly\"})});</script>"
      ],
      "text/vnd.plotly.v1+html": [
       "<div id=\"4799c959-aac8-4167-82e5-7accc6a1f623\" style=\"height: 525px; width: 100%;\" class=\"plotly-graph-div\"></div><script type=\"text/javascript\">require([\"plotly\"], function(Plotly) { window.PLOTLYENV=window.PLOTLYENV || {};window.PLOTLYENV.BASE_URL=\"https://plot.ly\";Plotly.newPlot(\"4799c959-aac8-4167-82e5-7accc6a1f623\", [{\"type\": \"scatter\", \"x\": [-10, 10, null, -10, -10, null, -10, 5, null, 10, 10, null, -10, 5, null], \"y\": [10, 10, null, 10, -10, null, 10, -10, null, 10, -10, null, -10, -10, null], \"line\": {\"width\": 1.3, \"color\": \"#888\"}, \"hoverinfo\": \"text\", \"mode\": \"lines\"}, {\"type\": \"scatter\", \"x\": [-10, 10, -10, 10, 5], \"y\": [10, 10, -10, -10, -10], \"text\": [\"Results:<br>Prod: 23.9 MW<br>TLor{1-2} -28.1 MW<br>TLor{1-3} 32.3 MW<br>TLor{1-6664} 19.6 MW\", \"Results:<br>Prod: 61.0 MW<br>TLor{2-4} 31.7 MW<br>TLex{2-1} 29.3 MW\", \"Results:<br>Load: 51.0 MW<br>TLor{3-6664} -19.2 MW<br>TLex{3-1} -31.8 MW\", \"Results:<br>Load: 31.0 MW<br>TLex{4-2} -31.0 MW\", \"Results:<br>TLex{6664-1} -19.5 MW<br>TLex{6664-3} 19.5 MW\"], \"mode\": \"markers+text\", \"hoverinfo\": \"text\", \"textposition\": [\"top left\", \"top right\", \"bottom left\", \"bottom right\", \"bottom center\"], \"textfont\": {\"size\": 8, \"color\": \"rgb(50,50,50)\"}, \"marker\": {\"color\": [\"rgb(227,26,28)\", \"rgb(227,26,28)\", \"rgb(31,120,180)\", \"rgb(31,120,180)\", \"rgb(31,120,180)\"], \"size\": [47.0, 47.0, 32.0, 32.0, 32.0], \"line\": {\"color\": \"rgb(100,100,100)\", \"width\": 2}}}], {\"showlegend\": false, \"margin\": {\"b\": 10, \"l\": 5, \"r\": 5, \"t\": 10}, \"xaxis\": {\"showgrid\": false, \"zeroline\": false, \"showticklabels\": false}, \"yaxis\": {\"showgrid\": false, \"zeroline\": false, \"showticklabels\": false}, \"annotations\": [{\"text\": \"1\", \"x\": -10, \"y\": 10, \"xref\": \"x1\", \"yref\": \"y1\", \"font\": {\"color\": \"rgb(255,255,255)\", \"size\": 10}, \"showarrow\": false}, {\"text\": \"2\", \"x\": 10, \"y\": 10, \"xref\": \"x1\", \"yref\": \"y1\", \"font\": {\"color\": \"rgb(255,255,255)\", \"size\": 10}, \"showarrow\": false}, {\"text\": \"3\", \"x\": -10, \"y\": -10, \"xref\": \"x1\", \"yref\": \"y1\", \"font\": {\"color\": \"rgb(255,255,255)\", \"size\": 10}, \"showarrow\": false}, {\"text\": \"4\", \"x\": 10, \"y\": -10, \"xref\": \"x1\", \"yref\": \"y1\", \"font\": {\"color\": \"rgb(255,255,255)\", \"size\": 10}, \"showarrow\": false}, {\"text\": \"6664\", \"x\": 5, \"y\": -10, \"xref\": \"x1\", \"yref\": \"y1\", \"font\": {\"color\": \"rgb(255,255,255)\", \"size\": 10}, \"showarrow\": false}]}, {\"showLink\": true, \"linkText\": \"Export to plot.ly\"})});</script>"
      ]
     },
     "metadata": {},
     "output_type": "display_data"
    }
   ],
   "source": [
    "# Run the environment.\n",
    "env_after_action, obs_after_action = sim(applied_action.as_array())\n",
    "\n",
    "\n",
    "# Plot the grid.\n",
    "layout = {'1':(-10, 10), '2':(10, 10), '3':(-10, -10), '4':(10, -10),'6664':(5, -10)}\n",
    "label_pos = {'1':'top left', '2':'top right', '3':'bottom left', '4':'bottom right','6664':'bottom center'}\n",
    "\n",
    "grid_after_action = reconstruct_grid(env_after_action, \n",
    "                                     obs_after_action, \n",
    "                                     applied_action.as_array(), \n",
    "                                     layout, label_pos, replace_dic=True)\n",
    "iplot(grid_after_action)"
   ]
  },
  {
   "cell_type": "code",
   "execution_count": null,
   "metadata": {},
   "outputs": [],
   "source": []
  },
  {
   "cell_type": "code",
   "execution_count": null,
   "metadata": {},
   "outputs": [],
   "source": []
  }
 ],
 "metadata": {
  "kernelspec": {
   "display_name": "Python 3",
   "language": "python",
   "name": "python3"
  },
  "language_info": {
   "codemirror_mode": {
    "name": "ipython",
    "version": 3
   },
   "file_extension": ".py",
   "mimetype": "text/x-python",
   "name": "python",
   "nbconvert_exporter": "python",
   "pygments_lexer": "ipython3",
   "version": "3.6.8"
  }
 },
 "nbformat": 4,
 "nbformat_minor": 1
}
